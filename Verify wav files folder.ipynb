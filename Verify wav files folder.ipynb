{
 "cells": [
  {
   "cell_type": "code",
   "execution_count": 2,
   "id": "initial_id",
   "metadata": {
    "collapsed": true,
    "ExecuteTime": {
     "end_time": "2025-05-21T08:56:26.802482Z",
     "start_time": "2025-05-21T08:56:26.544057100Z"
    }
   },
   "outputs": [
    {
     "ename": "NameError",
     "evalue": "name 'mplcursors' is not defined",
     "output_type": "error",
     "traceback": [
      "\u001B[1;31m---------------------------------------------------------------------------\u001B[0m",
      "\u001B[1;31mNameError\u001B[0m                                 Traceback (most recent call last)",
      "Cell \u001B[1;32mIn[2], line 83\u001B[0m\n\u001B[0;32m     81\u001B[0m \u001B[38;5;28;01mif\u001B[39;00m \u001B[38;5;18m__name__\u001B[39m \u001B[38;5;241m==\u001B[39m \u001B[38;5;124m\"\u001B[39m\u001B[38;5;124m__main__\u001B[39m\u001B[38;5;124m\"\u001B[39m:\n\u001B[0;32m     82\u001B[0m     folder \u001B[38;5;241m=\u001B[39m \u001B[38;5;124mr\u001B[39m\u001B[38;5;124m\"\u001B[39m\u001B[38;5;124mC:\u001B[39m\u001B[38;5;124m\\\u001B[39m\u001B[38;5;124mUsers\u001B[39m\u001B[38;5;124m\\\u001B[39m\u001B[38;5;124mLouis\u001B[39m\u001B[38;5;124m\\\u001B[39m\u001B[38;5;124mPycharmProjects\u001B[39m\u001B[38;5;124m\\\u001B[39m\u001B[38;5;124mHTS-Audio-Transformer\u001B[39m\u001B[38;5;124m\\\u001B[39m\u001B[38;5;124mworkspace\u001B[39m\u001B[38;5;124m\\\u001B[39m\u001B[38;5;124mesc-50\u001B[39m\u001B[38;5;124m\\\u001B[39m\u001B[38;5;124mraw\u001B[39m\u001B[38;5;124m\\\u001B[39m\u001B[38;5;124mESC-50-master\u001B[39m\u001B[38;5;124m\\\u001B[39m\u001B[38;5;124maudio_gaussian\u001B[39m\u001B[38;5;124m\"\u001B[39m\n\u001B[1;32m---> 83\u001B[0m     \u001B[43mplot_waveforms_from_folder_split\u001B[49m\u001B[43m(\u001B[49m\u001B[43mfolder\u001B[49m\u001B[43m)\u001B[49m\n",
      "Cell \u001B[1;32mIn[2], line 56\u001B[0m, in \u001B[0;36mplot_waveforms_from_folder_split\u001B[1;34m(wav_folder, target_rate, max_duration_sec, num_plots)\u001B[0m\n\u001B[0;32m     52\u001B[0m plt\u001B[38;5;241m.\u001B[39mtight_layout()\n\u001B[0;32m     55\u001B[0m \u001B[38;5;66;03m# Add cursor highlighting\u001B[39;00m\n\u001B[1;32m---> 56\u001B[0m cursor \u001B[38;5;241m=\u001B[39m \u001B[43mmplcursors\u001B[49m\u001B[38;5;241m.\u001B[39mcursor(lines, hover\u001B[38;5;241m=\u001B[39m\u001B[38;5;28;01mTrue\u001B[39;00m)\n\u001B[0;32m     58\u001B[0m \u001B[38;5;129m@cursor\u001B[39m\u001B[38;5;241m.\u001B[39mconnect(\u001B[38;5;124m\"\u001B[39m\u001B[38;5;124madd\u001B[39m\u001B[38;5;124m\"\u001B[39m)\n\u001B[0;32m     59\u001B[0m \u001B[38;5;28;01mdef\u001B[39;00m\u001B[38;5;250m \u001B[39m\u001B[38;5;21mon_add\u001B[39m(sel):\n\u001B[0;32m     60\u001B[0m     \u001B[38;5;28;01mfor\u001B[39;00m line \u001B[38;5;129;01min\u001B[39;00m lines:\n",
      "\u001B[1;31mNameError\u001B[0m: name 'mplcursors' is not defined"
     ]
    }
   ],
   "source": [
    "import os\n",
    "import numpy as np\n",
    "import matplotlib.pyplot as plt\n",
    "from scipy.io import wavfile\n",
    "from scipy.signal import resample\n",
    "import matplotlib\n",
    "matplotlib.use('Qt5Agg')  # or 'Qt5Agg' depending on your system\n",
    "\n",
    "def plot_waveforms_from_folder_split(wav_folder, target_rate=250, max_duration_sec=12.0, num_plots=10):\n",
    "    wav_files = sorted([f for f in os.listdir(wav_folder) if f.lower().endswith('.wav')])\n",
    "    if not wav_files:\n",
    "        print(\"No .wav files found.\")\n",
    "        return\n",
    "\n",
    "    # Split files into 10 (approximately) equal chunks\n",
    "    chunks = np.array_split(wav_files, num_plots)\n",
    "\n",
    "    for i, chunk in enumerate(chunks):\n",
    "        plt.figure(figsize=(12, 6))\n",
    "        lines = []\n",
    "        base_color = '#1f77b4'\n",
    "\n",
    "        for filename in chunk:\n",
    "            filepath = os.path.join(wav_folder, filename)\n",
    "            try:\n",
    "                sr, data = wavfile.read(filepath)\n",
    "\n",
    "                if data.ndim == 2:  # stereo to mono\n",
    "                    data = data.mean(axis=1)\n",
    "\n",
    "                # Trim to max duration\n",
    "                max_samples_orig = int(max_duration_sec * sr)\n",
    "                if len(data) > max_samples_orig:\n",
    "                    data = data[:max_samples_orig]\n",
    "\n",
    "                # Resample to target_rate\n",
    "                num_target_samples = int(len(data) * target_rate / sr)\n",
    "                data_resampled = resample(data, num_target_samples)\n",
    "                time = np.arange(len(data_resampled)) / target_rate\n",
    "\n",
    "                line, = plt.plot(time, data_resampled, alpha=0.3, linewidth=0.8, color=base_color, label=filename)\n",
    "                lines.append(line)\n",
    "\n",
    "            except Exception as e:\n",
    "                print(f\"Error processing {filename}: {e}\")\n",
    "\n",
    "        plt.title(f'Waveforms (Plot {i+1} of {num_plots}) - Downsampled to {target_rate} Hz')\n",
    "        plt.xlabel('Time (s)')\n",
    "        plt.ylabel('Amplitude')\n",
    "        plt.grid(True)\n",
    "        plt.legend(loc='upper right', fontsize='small')\n",
    "        plt.tight_layout()\n",
    "        \n",
    "        \n",
    "        # Add cursor highlighting\n",
    "        cursor = mplcursors.cursor(lines, hover=True)\n",
    "    \n",
    "        @cursor.connect(\"add\")\n",
    "        def on_add(sel):\n",
    "            for line in lines:\n",
    "                line.set_linewidth(0.8)\n",
    "                line.set_alpha(0.3)\n",
    "                line.set_color(line._color)\n",
    "    \n",
    "            sel.artist.set_linewidth(2.5)\n",
    "            sel.artist.set_alpha(1.0)\n",
    "            sel.artist.set_color('orange')\n",
    "            sel.annotation.set_text(sel.artist._filename)\n",
    "    \n",
    "            def remove_highlight(*_):\n",
    "                sel.artist.set_linewidth(0.8)\n",
    "                sel.artist.set_alpha(0.3)\n",
    "                sel.artist.set_color(sel.artist._color)\n",
    "                sel.annotation.set_visible(False)\n",
    "                plt.draw()\n",
    "    \n",
    "            sel.annotation.figure.canvas.mpl_connect('button_press_event', remove_highlight)\n",
    "\n",
    "        plt.show()\n",
    "\n",
    "if __name__ == \"__main__\":\n",
    "    folder = r\"C:\\Users\\Louis\\PycharmProjects\\HTS-Audio-Transformer\\workspace\\esc-50\\raw\\ESC-50-master\\audio_gaussian\"\n",
    "    plot_waveforms_from_folder_split(folder)\n"
   ]
  }
 ],
 "metadata": {
  "kernelspec": {
   "display_name": "Python 3",
   "language": "python",
   "name": "python3"
  },
  "language_info": {
   "codemirror_mode": {
    "name": "ipython",
    "version": 2
   },
   "file_extension": ".py",
   "mimetype": "text/x-python",
   "name": "python",
   "nbconvert_exporter": "python",
   "pygments_lexer": "ipython2",
   "version": "2.7.6"
  }
 },
 "nbformat": 4,
 "nbformat_minor": 5
}
